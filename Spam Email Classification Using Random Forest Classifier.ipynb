{
 "cells": [
  {
   "cell_type": "code",
   "execution_count": 1,
   "id": "6c807221",
   "metadata": {},
   "outputs": [],
   "source": [
    "### Importing libraries\n",
    "import numpy as np \n",
    "import pandas as pd \n",
    "\n",
    "\n",
    "from sklearn.pipeline import Pipeline\n",
    "from sklearn.ensemble import RandomForestClassifier\n",
    "from sklearn.linear_model import LogisticRegression\n",
    "from sklearn.naive_bayes import MultinomialNB\n",
    "from sklearn.feature_extraction.text import TfidfVectorizer\n",
    "from sklearn.metrics import confusion_matrix\n",
    "from sklearn.metrics import precision_score,accuracy_score\n",
    "from sklearn.metrics import confusion_matrix\n",
    "from matplotlib import pyplot as plt\n",
    "import seaborn as sn\n",
    "\n",
    "import nltk\n",
    "from nltk.corpus import stopwords\n",
    "from nltk.stem.porter import PorterStemmer\n",
    "import re"
   ]
  },
  {
   "cell_type": "code",
   "execution_count": 2,
   "id": "8028b0f3",
   "metadata": {},
   "outputs": [
    {
     "name": "stdout",
     "output_type": "stream",
     "text": [
      "(5570, 2)\n"
     ]
    },
    {
     "data": {
      "text/html": [
       "<div>\n",
       "<style scoped>\n",
       "    .dataframe tbody tr th:only-of-type {\n",
       "        vertical-align: middle;\n",
       "    }\n",
       "\n",
       "    .dataframe tbody tr th {\n",
       "        vertical-align: top;\n",
       "    }\n",
       "\n",
       "    .dataframe thead th {\n",
       "        text-align: right;\n",
       "    }\n",
       "</style>\n",
       "<table border=\"1\" class=\"dataframe\">\n",
       "  <thead>\n",
       "    <tr style=\"text-align: right;\">\n",
       "      <th></th>\n",
       "      <th>Category</th>\n",
       "      <th>Messages</th>\n",
       "    </tr>\n",
       "  </thead>\n",
       "  <tbody>\n",
       "    <tr>\n",
       "      <th>0</th>\n",
       "      <td>ham</td>\n",
       "      <td>Go until jurong point, crazy.. Available only ...</td>\n",
       "    </tr>\n",
       "    <tr>\n",
       "      <th>1</th>\n",
       "      <td>ham</td>\n",
       "      <td>Ok lar... Joking wif u oni...</td>\n",
       "    </tr>\n",
       "    <tr>\n",
       "      <th>2</th>\n",
       "      <td>spam</td>\n",
       "      <td>Free entry in 2 a wkly comp to win FA Cup fina...</td>\n",
       "    </tr>\n",
       "    <tr>\n",
       "      <th>3</th>\n",
       "      <td>ham</td>\n",
       "      <td>U dun say so early hor... U c already then say...</td>\n",
       "    </tr>\n",
       "    <tr>\n",
       "      <th>4</th>\n",
       "      <td>ham</td>\n",
       "      <td>Nah I don't think he goes to usf, he lives aro...</td>\n",
       "    </tr>\n",
       "  </tbody>\n",
       "</table>\n",
       "</div>"
      ],
      "text/plain": [
       "  Category                                           Messages\n",
       "0      ham  Go until jurong point, crazy.. Available only ...\n",
       "1      ham                      Ok lar... Joking wif u oni...\n",
       "2     spam  Free entry in 2 a wkly comp to win FA Cup fina...\n",
       "3      ham  U dun say so early hor... U c already then say...\n",
       "4      ham  Nah I don't think he goes to usf, he lives aro..."
      ]
     },
     "execution_count": 2,
     "metadata": {},
     "output_type": "execute_result"
    }
   ],
   "source": [
    "df = pd.read_csv('Spam.csv')\n",
    "print(df.shape)\n",
    "\n",
    "df.head()"
   ]
  },
  {
   "cell_type": "code",
   "execution_count": 3,
   "id": "af355b8b",
   "metadata": {},
   "outputs": [
    {
     "data": {
      "text/plain": [
       "Category    0\n",
       "Messages    1\n",
       "dtype: int64"
      ]
     },
     "execution_count": 3,
     "metadata": {},
     "output_type": "execute_result"
    }
   ],
   "source": [
    "df.isnull().sum()"
   ]
  },
  {
   "cell_type": "code",
   "execution_count": 4,
   "id": "42bdd646",
   "metadata": {},
   "outputs": [
    {
     "data": {
      "text/plain": [
       "Category    0\n",
       "Messages    0\n",
       "dtype: int64"
      ]
     },
     "execution_count": 4,
     "metadata": {},
     "output_type": "execute_result"
    }
   ],
   "source": [
    "df = df.dropna()\n",
    "df.isnull().sum()"
   ]
  },
  {
   "cell_type": "code",
   "execution_count": 5,
   "id": "1f5898d5",
   "metadata": {},
   "outputs": [
    {
     "data": {
      "text/plain": [
       "<Axes: xlabel='Category'>"
      ]
     },
     "execution_count": 5,
     "metadata": {},
     "output_type": "execute_result"
    },
    {
     "data": {
      "image/png": "[encoded data removed]",
      "text/plain": [
       "<Figure size 640x480 with 1 Axes>"
      ]
     },
     "metadata": {},
     "output_type": "display_data"
    }
   ],
   "source": [
    "df.value_counts('Category').plot(kind='bar')"
   ]
  },
  {
   "cell_type": "markdown",
   "id": "80a3386f",
   "metadata": {},
   "source": [
    "This Dataset is Imbalanced"
   ]
  },
  {
   "cell_type": "code",
   "execution_count": 6,
   "id": "bad3f6c2",
   "metadata": {},
   "outputs": [],
   "source": [
    "#### Preprocess the text data\n",
    "ps = PorterStemmer()\n",
    "corpus = []\n",
    "def preprocess(text):\n",
    "    \n",
    "    ### only considering the alphabet\n",
    "    text = re.sub('[^a-zA-Z]', ' ',text)\n",
    "    \n",
    "    #### lower case\n",
    "    text = text.lower()\n",
    "    text = text.split()\n",
    "\n",
    "    text = [ps.stem(word) for word in text if not word in stopwords.words('english')]\n",
    "    text = ' '.join(text)\n",
    "    \n",
    "    return text"
   ]
  },
  {
   "cell_type": "code",
   "execution_count": 7,
   "id": "5915d1e4",
   "metadata": {},
   "outputs": [],
   "source": [
    "df['Preprocessed_Messages'] = df['Messages'].apply(preprocess)"
   ]
  },
  {
   "cell_type": "code",
   "execution_count": 8,
   "id": "e0892cd2",
   "metadata": {},
   "outputs": [],
   "source": [
    "## now Converting the Category column to numerical\n",
    "map_dict = {'ham':0,\n",
    "         'spam':1}\n",
    "df['Category_numerical'] = df.Category.map(map_dict)"
   ]
  },
  {
   "cell_type": "code",
   "execution_count": 9,
   "id": "61e2b753",
   "metadata": {},
   "outputs": [
    {
     "data": {
      "text/html": [
       "<div>\n",
       "<style scoped>\n",
       "    .dataframe tbody tr th:only-of-type {\n",
       "        vertical-align: middle;\n",
       "    }\n",
       "\n",
       "    .dataframe tbody tr th {\n",
       "        vertical-align: top;\n",
       "    }\n",
       "\n",
       "    .dataframe thead th {\n",
       "        text-align: right;\n",
       "    }\n",
       "</style>\n",
       "<table border=\"1\" class=\"dataframe\">\n",
       "  <thead>\n",
       "    <tr style=\"text-align: right;\">\n",
       "      <th></th>\n",
       "      <th>Category</th>\n",
       "      <th>Messages</th>\n",
       "      <th>Preprocessed_Messages</th>\n",
       "      <th>Category_numerical</th>\n",
       "    </tr>\n",
       "  </thead>\n",
       "  <tbody>\n",
       "    <tr>\n",
       "      <th>0</th>\n",
       "      <td>ham</td>\n",
       "      <td>Go until jurong point, crazy.. Available only ...</td>\n",
       "      <td>go jurong point crazi avail bugi n great world...</td>\n",
       "      <td>0</td>\n",
       "    </tr>\n",
       "    <tr>\n",
       "      <th>1</th>\n",
       "      <td>ham</td>\n",
       "      <td>Ok lar... Joking wif u oni...</td>\n",
       "      <td>ok lar joke wif u oni</td>\n",
       "      <td>0</td>\n",
       "    </tr>\n",
       "    <tr>\n",
       "      <th>2</th>\n",
       "      <td>spam</td>\n",
       "      <td>Free entry in 2 a wkly comp to win FA Cup fina...</td>\n",
       "      <td>free entri wkli comp win fa cup final tkt st m...</td>\n",
       "      <td>1</td>\n",
       "    </tr>\n",
       "    <tr>\n",
       "      <th>3</th>\n",
       "      <td>ham</td>\n",
       "      <td>U dun say so early hor... U c already then say...</td>\n",
       "      <td>u dun say earli hor u c alreadi say</td>\n",
       "      <td>0</td>\n",
       "    </tr>\n",
       "    <tr>\n",
       "      <th>4</th>\n",
       "      <td>ham</td>\n",
       "      <td>Nah I don't think he goes to usf, he lives aro...</td>\n",
       "      <td>nah think goe usf live around though</td>\n",
       "      <td>0</td>\n",
       "    </tr>\n",
       "  </tbody>\n",
       "</table>\n",
       "</div>"
      ],
      "text/plain": [
       "  Category                                           Messages  \\\n",
       "0      ham  Go until jurong point, crazy.. Available only ...   \n",
       "1      ham                      Ok lar... Joking wif u oni...   \n",
       "2     spam  Free entry in 2 a wkly comp to win FA Cup fina...   \n",
       "3      ham  U dun say so early hor... U c already then say...   \n",
       "4      ham  Nah I don't think he goes to usf, he lives aro...   \n",
       "\n",
       "                               Preprocessed_Messages  Category_numerical  \n",
       "0  go jurong point crazi avail bugi n great world...                   0  \n",
       "1                              ok lar joke wif u oni                   0  \n",
       "2  free entri wkli comp win fa cup final tkt st m...                   1  \n",
       "3                u dun say earli hor u c alreadi say                   0  \n",
       "4               nah think goe usf live around though                   0  "
      ]
     },
     "execution_count": 9,
     "metadata": {},
     "output_type": "execute_result"
    }
   ],
   "source": [
    "df.head()"
   ]
  },
  {
   "cell_type": "code",
   "execution_count": 10,
   "id": "c06af556",
   "metadata": {},
   "outputs": [],
   "source": [
    "### performing train test split\n",
    "from sklearn.model_selection import train_test_split\n",
    "x_train,x_test,y_train,y_test = train_test_split(df.Preprocessed_Messages\t,\n",
    "                                                 df.Category_numerical,\n",
    "                                                 test_size=0.2,\n",
    "                                                 random_state=42,\n",
    "                                                 stratify=df.Category_numerical)"
   ]
  },
  {
   "cell_type": "code",
   "execution_count": 11,
   "id": "875d4e23",
   "metadata": {},
   "outputs": [
    {
     "data": {
      "text/plain": [
       "((4455,), (1114,))"
      ]
     },
     "execution_count": 11,
     "metadata": {},
     "output_type": "execute_result"
    }
   ],
   "source": [
    "x_train.shape,x_test.shape"
   ]
  },
  {
   "cell_type": "code",
   "execution_count": 12,
   "id": "1724f71b",
   "metadata": {},
   "outputs": [
    {
     "name": "stdout",
     "output_type": "stream",
     "text": [
      "multi naive bayes precision: 0.991304347826087\n",
      "multi naive bayes accuracy: 0.9676840215439856\n"
     ]
    }
   ],
   "source": [
    "multi_nb = Pipeline([\n",
    "     ('tfidf',TfidfVectorizer()),        \n",
    "     ('Multi_NB', MultinomialNB())         \n",
    "])\n",
    "\n",
    "multi_nb.fit(x_train, y_train)\n",
    "\n",
    "\n",
    "y_pred_mnb = multi_nb.predict(x_test)\n",
    "\n",
    "print(f'multi naive bayes precision: {precision_score(y_test,y_pred_mnb)}')\n",
    "print(f'multi naive bayes accuracy: {accuracy_score(y_test,y_pred_mnb)}')"
   ]
  },
  {
   "cell_type": "code",
   "execution_count": 13,
   "id": "c8bfd8af",
   "metadata": {},
   "outputs": [
    {
     "data": {
      "text/plain": [
       "Text(95.72222222222221, 0.5, 'Truth')"
      ]
     },
     "execution_count": 13,
     "metadata": {},
     "output_type": "execute_result"
    },
    {
     "data": {
      "image/png": "[encoded data removed]",
      "text/plain": [
       "<Figure size 1000x700 with 2 Axes>"
      ]
     },
     "metadata": {},
     "output_type": "display_data"
    }
   ],
   "source": [
    "confusion_mat = confusion_matrix(y_test, y_pred_mnb)\n",
    "\n",
    "\n",
    "plt.figure(figsize = (10,7))\n",
    "sn.heatmap(confusion_mat, annot=True, fmt='d')\n",
    "plt.xlabel('Prediction')\n",
    "plt.ylabel('Truth')"
   ]
  },
  {
   "cell_type": "code",
   "execution_count": 14,
   "id": "649b7443",
   "metadata": {},
   "outputs": [
    {
     "name": "stdout",
     "output_type": "stream",
     "text": [
      "RandomForest Classifier precision: 1.0\n",
      "RandomForest Classifier accuracy: 0.9730700179533214\n"
     ]
    }
   ],
   "source": [
    "rfc = Pipeline([\n",
    "     ('tfidf',TfidfVectorizer()),        \n",
    "     ('rf', RandomForestClassifier(random_state=42))         \n",
    "])\n",
    "\n",
    "rfc.fit(x_train, y_train)\n",
    "\n",
    "\n",
    "y_pred_rfc = rfc.predict(x_test)\n",
    "\n",
    "print(f'RandomForest Classifier precision: {precision_score(y_test,y_pred_rfc)}')\n",
    "print(f'RandomForest Classifier accuracy: {accuracy_score(y_test,y_pred_rfc)}')"
   ]
  },
  {
   "cell_type": "code",
   "execution_count": 15,
   "id": "f2597c84",
   "metadata": {},
   "outputs": [
    {
     "data": {
      "text/plain": [
       "Text(95.72222222222221, 0.5, 'Truth')"
      ]
     },
     "execution_count": 15,
     "metadata": {},
     "output_type": "execute_result"
    },
    {
     "data": {
      "image/png": "[encoded data removed]",
      "text/plain": [
       "<Figure size 1000x700 with 2 Axes>"
      ]
     },
     "metadata": {},
     "output_type": "display_data"
    }
   ],
   "source": [
    "confusion_mat = confusion_matrix(y_test, y_pred_rfc)\n",
    "\n",
    "\n",
    "plt.figure(figsize = (10,7))\n",
    "sn.heatmap(confusion_mat, annot=True, fmt='d')\n",
    "plt.xlabel('Prediction')\n",
    "plt.ylabel('Truth')"
   ]
  },
  {
   "cell_type": "code",
   "execution_count": 16,
   "id": "e2043849",
   "metadata": {},
   "outputs": [
    {
     "name": "stdout",
     "output_type": "stream",
     "text": [
      "Logistic Regression precision: 0.9745762711864406\n",
      "Logistic Regression accuracy: 0.966786355475763\n"
     ]
    }
   ],
   "source": [
    "lr = Pipeline([\n",
    "     ('tfidf',TfidfVectorizer()),        \n",
    "     ('log_reg', LogisticRegression())         \n",
    "])\n",
    "\n",
    "lr.fit(x_train, y_train)\n",
    "\n",
    "\n",
    "y_pred_lr = lr.predict(x_test)\n",
    "\n",
    "print(f'Logistic Regression precision: {precision_score(y_test,y_pred_lr)}')\n",
    "print(f'Logistic Regression accuracy: {accuracy_score(y_test,y_pred_lr)}')"
   ]
  },
  {
   "cell_type": "code",
   "execution_count": 17,
   "id": "98b11533",
   "metadata": {},
   "outputs": [
    {
     "data": {
      "text/plain": [
       "Text(95.72222222222221, 0.5, 'Truth')"
      ]
     },
     "execution_count": 17,
     "metadata": {},
     "output_type": "execute_result"
    },
    {
     "data": {
      "image/png": "[encoded data removed]",
      "text/plain": [
       "<Figure size 1000x700 with 2 Axes>"
      ]
     },
     "metadata": {},
     "output_type": "display_data"
    }
   ],
   "source": [
    "confusion_mat = confusion_matrix(y_test, y_pred_lr)\n",
    "\n",
    "\n",
    "plt.figure(figsize = (10,7))\n",
    "sn.heatmap(confusion_mat, annot=True, fmt='d')\n",
    "plt.xlabel('Prediction')\n",
    "plt.ylabel('Truth')"
   ]
  },
  {
   "cell_type": "code",
   "execution_count": 18,
   "id": "62a27366",
   "metadata": {},
   "outputs": [
    {
     "data": {
      "text/html": [
       "<div>\n",
       "<style scoped>\n",
       "    .dataframe tbody tr th:only-of-type {\n",
       "        vertical-align: middle;\n",
       "    }\n",
       "\n",
       "    .dataframe tbody tr th {\n",
       "        vertical-align: top;\n",
       "    }\n",
       "\n",
       "    .dataframe thead th {\n",
       "        text-align: right;\n",
       "    }\n",
       "</style>\n",
       "<table border=\"1\" class=\"dataframe\">\n",
       "  <thead>\n",
       "    <tr style=\"text-align: right;\">\n",
       "      <th></th>\n",
       "      <th>model</th>\n",
       "      <th>Precision</th>\n",
       "      <th>Accuracy</th>\n",
       "    </tr>\n",
       "  </thead>\n",
       "  <tbody>\n",
       "    <tr>\n",
       "      <th>0</th>\n",
       "      <td>Random Forest</td>\n",
       "      <td>1.000000</td>\n",
       "      <td>0.973070</td>\n",
       "    </tr>\n",
       "    <tr>\n",
       "      <th>1</th>\n",
       "      <td>Multi Naive Bayes</td>\n",
       "      <td>0.991304</td>\n",
       "      <td>0.967684</td>\n",
       "    </tr>\n",
       "    <tr>\n",
       "      <th>2</th>\n",
       "      <td>Logistic Regression</td>\n",
       "      <td>0.974576</td>\n",
       "      <td>0.966786</td>\n",
       "    </tr>\n",
       "  </tbody>\n",
       "</table>\n",
       "</div>"
      ],
      "text/plain": [
       "                 model  Precision  Accuracy\n",
       "0        Random Forest   1.000000  0.973070\n",
       "1    Multi Naive Bayes   0.991304  0.967684\n",
       "2  Logistic Regression   0.974576  0.966786"
      ]
     },
     "execution_count": 18,
     "metadata": {},
     "output_type": "execute_result"
    }
   ],
   "source": [
    "report_df = pd.DataFrame({'model':['Random Forest', 'Multi Naive Bayes','Logistic Regression'],\n",
    "                          'Precision': [precision_score(y_test,y_pred_rfc),precision_score(y_test,y_pred_mnb),precision_score(y_test,y_pred_lr)],\n",
    "                          'Accuracy':[accuracy_score(y_test,y_pred_rfc),accuracy_score(y_test,y_pred_mnb),accuracy_score(y_test,y_pred_lr)]})\n",
    "report_df"
   ]
  },
  {
   "cell_type": "markdown",
   "id": "3928fc75",
   "metadata": {},
   "source": [
    "From This Result it is clear that Random Forest Classifier give best precision score with good accuracy."
   ]
  },
  {
   "cell_type": "code",
   "execution_count": 20,
   "id": "8a799e68",
   "metadata": {},
   "outputs": [],
   "source": [
    "import pickle\n",
    "pickle.dump(rfc,open('Spam_Email_classifier.pkl','wb'))"
   ]
  }
 ],
 "metadata": {
  "kernelspec": {
   "display_name": "Python 3 (ipykernel)",
   "language": "python",
   "name": "python3"
  },
  "language_info": {
   "codemirror_mode": {
    "name": "ipython",
    "version": 3
   },
   "file_extension": ".py",
   "mimetype": "text/x-python",
   "name": "python",
   "nbconvert_exporter": "python",
   "pygments_lexer": "ipython3",
   "version": "3.11.4"
  }
 },
 "nbformat": 4,
 "nbformat_minor": 5
}
